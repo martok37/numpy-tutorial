{
 "cells": [
  {
   "cell_type": "code",
   "execution_count": null,
   "id": "89921d1f",
   "metadata": {},
   "outputs": [
    {
     "name": "stdout",
     "output_type": "stream",
     "text": [
      "[1.1 3.3 5.5 7.7]\n",
      "float64\n",
      "\n",
      "[1 3 5 7]\n",
      "int32\n"
     ]
    }
   ],
   "source": [
    "import numpy as np\n",
    "\n",
    "arr = np.array([1.1, 3.3, 5.5, 7.7, 0.0])\n",
    "\n",
    "intarr = arr.astype('i')\n",
    "boolarr = arr.astype(bool)\n",
    "\n",
    "arrays = [arr, intarr, boolarr]\n",
    "\n",
    "for array in arrays:\n",
    "    print(array)\n",
    "    print(array.dtype)"
   ]
  }
 ],
 "metadata": {
  "kernelspec": {
   "display_name": ".venv",
   "language": "python",
   "name": "python3"
  },
  "language_info": {
   "codemirror_mode": {
    "name": "ipython",
    "version": 3
   },
   "file_extension": ".py",
   "mimetype": "text/x-python",
   "name": "python",
   "nbconvert_exporter": "python",
   "pygments_lexer": "ipython3",
   "version": "3.11.9"
  }
 },
 "nbformat": 4,
 "nbformat_minor": 5
}
